{
 "cells": [
  {
   "cell_type": "markdown",
   "id": "460726c4",
   "metadata": {},
   "source": [
    "# Generating a PROBE Subckt to Control the Switch Matrix Registers to Make Connections"
   ]
  },
  {
   "cell_type": "markdown",
   "id": "4b1a726a",
   "metadata": {},
   "source": []
  },
  {
   "cell_type": "code",
   "execution_count": 1,
   "id": "d416338d",
   "metadata": {},
   "outputs": [],
   "source": [
    "import csv\n",
    "import json\n",
    "import os"
   ]
  },
  {
   "cell_type": "code",
   "execution_count": 2,
   "id": "8ffa61dc",
   "metadata": {},
   "outputs": [
    {
     "ename": "NameError",
     "evalue": "name 'filename' is not defined",
     "output_type": "error",
     "traceback": [
      "\u001b[0;31m---------------------------------------------------------------------------\u001b[0m",
      "\u001b[0;31mNameError\u001b[0m                                 Traceback (most recent call last)",
      "Cell \u001b[0;32mIn[2], line 11\u001b[0m\n\u001b[1;32m      9\u001b[0m \u001b[38;5;66;03m# Check if the script is being run from the correct directory\u001b[39;00m\n\u001b[1;32m     10\u001b[0m \u001b[38;5;28;01mif\u001b[39;00m \u001b[38;5;129;01mnot\u001b[39;00m os\u001b[38;5;241m.\u001b[39mpath\u001b[38;5;241m.\u001b[39mexists(file_path):\n\u001b[0;32m---> 11\u001b[0m     \u001b[38;5;28mprint\u001b[39m(\u001b[38;5;124mf\u001b[39m\u001b[38;5;124m\"\u001b[39m\u001b[38;5;124mError: The script must be run from the directory containing \u001b[39m\u001b[38;5;132;01m{\u001b[39;00m\u001b[43mfilename\u001b[49m\u001b[38;5;132;01m}\u001b[39;00m\u001b[38;5;124m.\u001b[39m\u001b[38;5;124m\"\u001b[39m)\n\u001b[1;32m     12\u001b[0m     sys\u001b[38;5;241m.\u001b[39mexit(\u001b[38;5;241m1\u001b[39m) \n",
      "\u001b[0;31mNameError\u001b[0m: name 'filename' is not defined"
     ]
    }
   ],
   "source": [
    "# Change the working directory to the script's directory\n",
    "\n",
    "working_dir = \"/Users/peterkinget/iCloudDrive/Work/MOSBIUS/MOSbiusTools/MOSbiusCADFlow/MOSbiusV2Tools/MOSbiusV2Tools/tmp/\"\n",
    "os.chdir(working_dir)\n",
    "\n",
    "# Define the file path\n",
    "file_path = \"MOSbiusV2_sw_matrix_register_map_20250503.csv\"\n",
    "\n",
    "# Check if the script is being run from the correct directory\n",
    "if not os.path.exists(file_path):\n",
    "    print(f\"Error: The script must be run from the directory containing {filename}.\")\n",
    "    sys.exit(1) "
   ]
  },
  {
   "cell_type": "code",
   "execution_count": null,
   "id": "ea5635b7",
   "metadata": {},
   "outputs": [],
   "source": [
    "def generate_circuit_file(circuit_json_path, pin_map_path, register_map_path, template_path, output_path):\n",
    "    # Load the circuit JSON\n",
    "    with open(circuit_json_path, 'r') as circuit_file:\n",
    "        circuit_data = json.load(circuit_file)\n",
    "\n",
    "    # Load the pin-to-sw_matrix mapping\n",
    "    with open(pin_map_path, 'r') as pin_map_file:\n",
    "        pin_to_sw_matrix = json.load(pin_map_file)\n",
    "\n",
    "    # Load the sw_matrix-to-register mapping\n",
    "    with open(register_map_path, 'r') as register_map_file:\n",
    "        sw_matrix_to_register = json.load(register_map_file)\n",
    "\n",
    "    # Load the SPICE template\n",
    "    with open(template_path, 'r') as template_file:\n",
    "        spice_header = template_file.readlines()\n",
    "\n",
    "    # Open the output file for writing\n",
    "    with open(output_path, 'w') as output_file:\n",
    "        # Write the SPICE template header\n",
    "        output_file.writelines(f\"* {circuit_json_path}\\n\")\n",
    "        output_file.writelines(spice_header)\n",
    "\n",
    "        # Track connected probes\n",
    "        connected_probes = set()\n",
    "\n",
    "        # Iterate through each connection in the circuit JSON\n",
    "        for connection, pins in circuit_data.items():\n",
    "            for pin in pins:\n",
    "                # Get the sw_matrix pin number\n",
    "                sw_matrix_pin = pin_to_sw_matrix.get(pin, None)\n",
    "                if sw_matrix_pin is None:\n",
    "                    print(f\"Warning: Pin '{pin}' not found in pin_name_to_sw_matrix_pin_number.json\")\n",
    "                    continue\n",
    "\n",
    "                # Get the register\n",
    "                try:\n",
    "                    register = sw_matrix_to_register[str(int(sw_matrix_pin))][connection]\n",
    "                except KeyError as e:\n",
    "                    print(f\"Error: Key {e} not found in the dictionaries.\")\n",
    "                    continue\n",
    "\n",
    "                # Write the connection to the SPICE file\n",
    "                output_file.write(f\"* Connection: {connection}, Pin: {pin}, sw_matrix_pin: {sw_matrix_pin}, Register: {register}\\n\")\n",
    "                output_file.write(f\"V{pin}_to_{connection} PROBE<{int(register)}> VDD 0\\n\")\n",
    "\n",
    "                # Mark this probe as connected\n",
    "                connected_probes.add(int(register))\n",
    "        # print(connected_probes)\n",
    "        # By default, connect all unused probes to VSS\n",
    "        for probe in range(1, 1889):  # 1888 probes\n",
    "            if probe not in connected_probes:\n",
    "                output_file.write(f\"Vprobe_{probe}_to_VSS PROBE<{probe}> VSS 0\\n\")\n",
    "            # else:\n",
    "            #    print(f\"Skipping {probe}\")\n",
    "\n",
    "        # Write the SPICE footer\n",
    "        output_file.write(\".ENDS\\n\")\n",
    "\n",
    "        return (sw_matrix_to_register)"
   ]
  },
  {
   "cell_type": "code",
   "execution_count": 8,
   "id": "4a07ffdd",
   "metadata": {},
   "outputs": [
    {
     "name": "stdout",
     "output_type": "stream",
     "text": [
      "{323, 324, 325, 298, 299, 363, 364, 365, 338, 339, 349}\n",
      "Skipping 298\n",
      "Skipping 299\n",
      "Skipping 323\n",
      "Skipping 324\n",
      "Skipping 325\n",
      "Skipping 338\n",
      "Skipping 339\n",
      "Skipping 349\n",
      "Skipping 363\n",
      "Skipping 364\n",
      "Skipping 365\n"
     ]
    }
   ],
   "source": [
    "(sw_matrix_to_register) = generate_circuit_file(\n",
    "    circuit_json_path=\"../../examples/RO3_circuit.json\",\n",
    "    pin_map_path=\"pin_name_to_sw_matrix_pin_number.json\",\n",
    "    register_map_path=\"switch_matrix_register_map.json\",\n",
    "    template_path=\"PK_set_SWMATRIX_template.cir\",\n",
    "    output_path=\"generated_set_SWMATRIX_PROBE.cir\"\n",
    ")\n"
   ]
  },
  {
   "cell_type": "code",
   "execution_count": null,
   "id": "73e51178",
   "metadata": {},
   "outputs": [],
   "source": []
  },
  {
   "cell_type": "code",
   "execution_count": null,
   "id": "32f82187",
   "metadata": {},
   "outputs": [],
   "source": []
  }
 ],
 "metadata": {
  "kernelspec": {
   "display_name": "Python 3 (ipykernel)",
   "language": "python",
   "name": "python3"
  },
  "language_info": {
   "codemirror_mode": {
    "name": "ipython",
    "version": 3
   },
   "file_extension": ".py",
   "mimetype": "text/x-python",
   "name": "python",
   "nbconvert_exporter": "python",
   "pygments_lexer": "ipython3",
   "version": "3.12.9"
  }
 },
 "nbformat": 4,
 "nbformat_minor": 5
}
