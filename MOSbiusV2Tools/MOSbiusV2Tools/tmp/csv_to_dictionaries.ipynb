{
 "cells": [
  {
   "cell_type": "markdown",
   "id": "a02f827f",
   "metadata": {},
   "source": [
    "# Jupyter Notebook to Convert the Spreadsheet CSV in Mapping dictionaries"
   ]
  },
  {
   "cell_type": "code",
   "execution_count": 1,
   "id": "fd393029",
   "metadata": {},
   "outputs": [],
   "source": [
    "import pandas as pd\n",
    "import os\n",
    "import sys  "
   ]
  },
  {
   "cell_type": "code",
   "execution_count": null,
   "id": "87f5a196",
   "metadata": {},
   "outputs": [],
   "source": [
    "# Change the working directory to the script's directory\n",
    "\n",
    "working_dir = \"/Users/peterkinget/iCloudDrive/Work/MOSBIUS/MOSbiusTools/MOSbiusCADFlow/MOSbiusV2Tools/MOSbiusV2Tools/tmp\"\n",
    "os.chdir(working_dir)\n",
    "\n",
    "# Define the file path\n",
    "filename = \"MOSbiusV2_pin_map - Pin List_20250501.csv\"\n",
    "\n",
    "# Check if the script is being run from the correct directory\n",
    "if not os.path.exists(filename):\n",
    "    print(f\"Error: The script must be run from the directory containing {filename}.\")\n",
    "    sys.exit(1) "
   ]
  },
  {
   "cell_type": "code",
   "execution_count": 3,
   "id": "213dceb6",
   "metadata": {},
   "outputs": [],
   "source": [
    "# Read the CSV file\n",
    "df_orig = pd.read_csv(filename, skiprows=13)  # Skip the first 10 rows of metadata"
   ]
  },
  {
   "cell_type": "code",
   "execution_count": 4,
   "id": "a8df559b",
   "metadata": {},
   "outputs": [
    {
     "data": {
      "text/plain": [
       "['Padframe Pin no.',\n",
       " 'Package Pin no.',\n",
       " 'Switch Matrix Pin No. ',\n",
       " 'Layout Analog Port Name (internal use ONLY)',\n",
       " 'Pin Name',\n",
       " 'Function',\n",
       " 'Direction',\n",
       " 'Active Low/High',\n",
       " 'Notes',\n",
       " 'Unnamed: 9']"
      ]
     },
     "execution_count": 4,
     "metadata": {},
     "output_type": "execute_result"
    }
   ],
   "source": [
    "columns = df_orig.columns.tolist()   # Print the column names\n",
    "columns"
   ]
  },
  {
   "cell_type": "code",
   "execution_count": 5,
   "id": "29f3ee74",
   "metadata": {},
   "outputs": [
    {
     "name": "stderr",
     "output_type": "stream",
     "text": [
      "/tmp/ipykernel_1468/2632883479.py:5: SettingWithCopyWarning: \n",
      "A value is trying to be set on a copy of a slice from a DataFrame\n",
      "\n",
      "See the caveats in the documentation: https://pandas.pydata.org/pandas-docs/stable/user_guide/indexing.html#returning-a-view-versus-a-copy\n",
      "  df.rename(columns={\n"
     ]
    }
   ],
   "source": [
    "save_columns = ['Package Pin no.', 'Switch Matrix Pin No. ', 'Pin Name', ]\n",
    "# Filter the DataFrame to include only the specified columns\n",
    "df = df_orig[save_columns]\n",
    "# Rename the columns\n",
    "df.rename(columns={\n",
    "    'Package Pin no.': 'pin_number',\n",
    "    'Switch Matrix Pin No. ': 'sw_matrix_pin_number',\n",
    "    'Pin Name': 'pin_name'\n",
    "}, inplace=True)    \n",
    "# Remove the empty rows\n",
    "df = df.dropna(how='all')"
   ]
  },
  {
   "cell_type": "code",
   "execution_count": 6,
   "id": "1ed00cb2",
   "metadata": {},
   "outputs": [
    {
     "name": "stdout",
     "output_type": "stream",
     "text": [
      "     pin_number  sw_matrix_pin_number       pin_name\n",
      "0           1.0                  92.0            VSS\n",
      "1           2.0                   NaN             EN\n",
      "2           3.0                   NaN            CLK\n",
      "3           4.0                   NaN     DATA_SBUS6\n",
      "4           5.0                   NaN          SBUS5\n",
      "..          ...                   ...            ...\n",
      "103        97.0                  87.0  DCC4_P_D_L_CC\n",
      "104        98.0                  88.0  DCC4_P_D_L_CS\n",
      "105        99.0                  89.0  DCC4_P_D_R_CC\n",
      "106       100.0                  90.0  DCC4_P_D_R_CS\n",
      "107         NaN                  92.0            NaN\n",
      "\n",
      "[108 rows x 3 columns]\n",
      "Index(['pin_number', 'sw_matrix_pin_number', 'pin_name'], dtype='object')\n"
     ]
    }
   ],
   "source": [
    "print(df)\n",
    "print(df.columns)"
   ]
  },
  {
   "cell_type": "code",
   "execution_count": 8,
   "id": "dd511420",
   "metadata": {},
   "outputs": [],
   "source": [
    "# Make a dictionary from the DataFrame that maps Pin Name to Pin No.\n",
    "pin_map = {}\n",
    "for index, row in df.iterrows():\n",
    "    pin_name = row['pin_name']\n",
    "    pin_number = row['pin_number']\n",
    "    if pd.notna(pin_name) and pd.notna(pin_number):\n",
    "        pin_map[pin_name] = pin_number\n",
    "pin_name_to_number = pin_map\n",
    "\n",
    "# Make a dictionary from the Dataframe that maps Pin numbers to pin names\n",
    "pin_number_to_name = {}\n",
    "for index, row in df.iterrows():\n",
    "    pin_number = row['pin_number']\n",
    "    pin_name = row['pin_name']\n",
    "    if pd.notna(pin_number) and pd.notna(pin_name):\n",
    "        pin_number_to_name[pin_number] = pin_name\n",
    "\n",
    "# Make a dictionary from the Dataframe that maps the pin name to the switch matrix pin number\n",
    "sw_matrix_pin_map = {}\n",
    "for index, row in df.iterrows():\n",
    "    pin_name = row['pin_name']\n",
    "    sw_matrix_pin_number = row['sw_matrix_pin_number']\n",
    "    if pd.notna(pin_name) and pd.notna(sw_matrix_pin_number):\n",
    "        sw_matrix_pin_map[pin_name] = sw_matrix_pin_number\n",
    "\n",
    "pin_name_to_sw_matrix_pin_number = sw_matrix_pin_map"
   ]
  },
  {
   "cell_type": "code",
   "execution_count": 9,
   "id": "f5cd4fa5",
   "metadata": {},
   "outputs": [],
   "source": [
    "# Save the dictionaries to JSON files\n",
    "import json \n",
    "with open('pin_name_to_number.json', 'w') as f:\n",
    "    json.dump(pin_name_to_number, f, indent=4)\n",
    "with open('pin_number_to_name.json', 'w') as f:\n",
    "    json.dump(pin_number_to_name, f, indent=4)  \n",
    "with open('pin_name_to_sw_matrix_pin_number.json', 'w') as f:   \n",
    "    json.dump(pin_name_to_sw_matrix_pin_number, f, indent=4)\n",
    "# Save the DataFrame to a new CSV file\n",
    "df.to_csv('MOSbiusV2_pin_map - Pin List_cleaned.csv', index=False)"
   ]
  },
  {
   "cell_type": "code",
   "execution_count": null,
   "id": "048b1540",
   "metadata": {},
   "outputs": [],
   "source": [
    "pin_name_to_number "
   ]
  },
  {
   "cell_type": "code",
   "execution_count": null,
   "id": "4783eeef",
   "metadata": {},
   "outputs": [],
   "source": [
    "pin_number_to_name"
   ]
  },
  {
   "cell_type": "code",
   "execution_count": null,
   "id": "92c9ac3e",
   "metadata": {},
   "outputs": [],
   "source": [
    "pin_number_to_name[12\n",
    "                   ]"
   ]
  },
  {
   "cell_type": "code",
   "execution_count": null,
   "id": "e6718a9c",
   "metadata": {},
   "outputs": [],
   "source": []
  }
 ],
 "metadata": {
  "kernelspec": {
   "display_name": "Python 3 (ipykernel)",
   "language": "python",
   "name": "python3"
  },
  "language_info": {
   "codemirror_mode": {
    "name": "ipython",
    "version": 3
   },
   "file_extension": ".py",
   "mimetype": "text/x-python",
   "name": "python",
   "nbconvert_exporter": "python",
   "pygments_lexer": "ipython3",
   "version": "3.12.9"
  }
 },
 "nbformat": 4,
 "nbformat_minor": 5
}
